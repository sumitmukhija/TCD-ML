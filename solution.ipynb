{
 "cells": [
  {
   "cell_type": "code",
   "execution_count": 1,
   "metadata": {},
   "outputs": [],
   "source": [
    "import numpy as np\n",
    "import pandas as pd\n",
    "import seaborn as sns\n",
    "from sklearn.linear_model import LinearRegression\n",
    "from sklearn.preprocessing import MinMaxScaler\n",
    "from sklearn.model_selection import train_test_split\n",
    "import category_encoders as ce\n",
    "from math import sqrt\n",
    "from sklearn import preprocessing\n",
    "from sklearn.metrics import mean_squared_error\n",
    "import matplotlib.pyplot as plt\n",
    "from sklearn.ensemble import RandomForestRegressor"
   ]
  },
  {
   "cell_type": "markdown",
   "metadata": {},
   "source": [
    "# 1.  Laying the land\n"
   ]
  },
  {
   "cell_type": "code",
   "execution_count": 2,
   "metadata": {},
   "outputs": [
    {
     "data": {
      "text/html": [
       "<div>\n",
       "<style scoped>\n",
       "    .dataframe tbody tr th:only-of-type {\n",
       "        vertical-align: middle;\n",
       "    }\n",
       "\n",
       "    .dataframe tbody tr th {\n",
       "        vertical-align: top;\n",
       "    }\n",
       "\n",
       "    .dataframe thead th {\n",
       "        text-align: right;\n",
       "    }\n",
       "</style>\n",
       "<table border=\"1\" class=\"dataframe\">\n",
       "  <thead>\n",
       "    <tr style=\"text-align: right;\">\n",
       "      <th></th>\n",
       "      <th>Train</th>\n",
       "      <th>Test</th>\n",
       "    </tr>\n",
       "  </thead>\n",
       "  <tbody>\n",
       "    <tr>\n",
       "      <th>col</th>\n",
       "      <td>12</td>\n",
       "      <td>12</td>\n",
       "    </tr>\n",
       "    <tr>\n",
       "      <th>rows</th>\n",
       "      <td>110044</td>\n",
       "      <td>73230</td>\n",
       "    </tr>\n",
       "  </tbody>\n",
       "</table>\n",
       "</div>"
      ],
      "text/plain": [
       "       Train   Test\n",
       "col       12     12\n",
       "rows  110044  73230"
      ]
     },
     "execution_count": 2,
     "metadata": {},
     "output_type": "execute_result"
    }
   ],
   "source": [
    "train_df = pd.read_csv('./data/train.csv')\n",
    "train_df = train_df[train_df[\"Income in EUR\"] > 0]\n",
    "train_df = train_df[train_df[\"Age\"] < 80]\n",
    "to_drop = train_df[((train_df.Gender == 'unknown') | (pd.isnull(train_df.Gender))) & ((pd.isnull(train_df.Profession)) & ((pd.isnull(train_df['University Degree']))))].index\n",
    "train_df.drop(to_drop,inplace= True)\n",
    "train_df.rename({'Income in EUR':'income'}, axis=1, inplace=True)\n",
    "train_target = train_df['income']\n",
    "train_labels = train_df.drop('income', 1)\n",
    "\n",
    "test_df = pd.read_csv('./data/test.csv')\n",
    "test_df.rename({'Income':'income'}, axis=1, inplace=True)\n",
    "test_target = test_df['income']\n",
    "test_labels = test_df.drop('income', 1)\n",
    "\n",
    "df = pd.concat([train_labels, test_labels], sort = False)\n",
    "df.columns = df.columns.str.replace(' ', '_')\n",
    "df.columns = df.columns.str.lower()\n",
    "pd.DataFrame({\"Train\": {\"rows\":train_df.shape[0], \"col\":train_df.shape[1]} , \"Test\": {\"rows\":test_df.shape[0], \"col\":test_df.shape[1]}}\n",
    "            )"
   ]
  },
  {
   "cell_type": "code",
   "execution_count": 3,
   "metadata": {},
   "outputs": [
    {
     "data": {
      "text/html": [
       "<div>\n",
       "<style scoped>\n",
       "    .dataframe tbody tr th:only-of-type {\n",
       "        vertical-align: middle;\n",
       "    }\n",
       "\n",
       "    .dataframe tbody tr th {\n",
       "        vertical-align: top;\n",
       "    }\n",
       "\n",
       "    .dataframe thead th {\n",
       "        text-align: right;\n",
       "    }\n",
       "</style>\n",
       "<table border=\"1\" class=\"dataframe\">\n",
       "  <thead>\n",
       "    <tr style=\"text-align: right;\">\n",
       "      <th></th>\n",
       "      <th>instance</th>\n",
       "      <th>year_of_record</th>\n",
       "      <th>gender</th>\n",
       "      <th>age</th>\n",
       "      <th>country</th>\n",
       "      <th>size_of_city</th>\n",
       "      <th>profession</th>\n",
       "      <th>university_degree</th>\n",
       "      <th>wears_glasses</th>\n",
       "      <th>hair_color</th>\n",
       "      <th>body_height_[cm]</th>\n",
       "    </tr>\n",
       "  </thead>\n",
       "  <tbody>\n",
       "    <tr>\n",
       "      <th>0</th>\n",
       "      <td>1</td>\n",
       "      <td>1997.0</td>\n",
       "      <td>0</td>\n",
       "      <td>41.0</td>\n",
       "      <td>Belarus</td>\n",
       "      <td>1239930</td>\n",
       "      <td>steel workers</td>\n",
       "      <td>Bachelor</td>\n",
       "      <td>0</td>\n",
       "      <td>Blond</td>\n",
       "      <td>193</td>\n",
       "    </tr>\n",
       "  </tbody>\n",
       "</table>\n",
       "</div>"
      ],
      "text/plain": [
       "   instance  year_of_record gender   age  country  size_of_city  \\\n",
       "0         1          1997.0      0  41.0  Belarus       1239930   \n",
       "\n",
       "      profession university_degree  wears_glasses hair_color  body_height_[cm]  \n",
       "0  steel workers          Bachelor              0      Blond               193  "
      ]
     },
     "execution_count": 3,
     "metadata": {},
     "output_type": "execute_result"
    }
   ],
   "source": [
    "df.head(1)"
   ]
  },
  {
   "cell_type": "markdown",
   "metadata": {},
   "source": [
    "Number of rows(185223) and columns(12) "
   ]
  },
  {
   "cell_type": "code",
   "execution_count": 4,
   "metadata": {},
   "outputs": [
    {
     "data": {
      "text/plain": [
       "(183274, 11)"
      ]
     },
     "execution_count": 4,
     "metadata": {},
     "output_type": "execute_result"
    }
   ],
   "source": [
    "df.shape"
   ]
  },
  {
   "cell_type": "markdown",
   "metadata": {},
   "source": [
    "All the columns in the dataset with the number of records and their respective data types."
   ]
  },
  {
   "cell_type": "code",
   "execution_count": 5,
   "metadata": {},
   "outputs": [
    {
     "name": "stdout",
     "output_type": "stream",
     "text": [
      "<class 'pandas.core.frame.DataFrame'>\n",
      "Int64Index: 183274 entries, 0 to 73229\n",
      "Data columns (total 11 columns):\n",
      "instance             183274 non-null int64\n",
      "year_of_record       182546 non-null float64\n",
      "gender               171143 non-null object\n",
      "age                  182995 non-null float64\n",
      "country              183274 non-null object\n",
      "size_of_city         183274 non-null int64\n",
      "profession           182767 non-null object\n",
      "university_degree    171177 non-null object\n",
      "wears_glasses        183274 non-null int64\n",
      "hair_color           171247 non-null object\n",
      "body_height_[cm]     183274 non-null int64\n",
      "dtypes: float64(2), int64(4), object(5)\n",
      "memory usage: 16.8+ MB\n"
     ]
    }
   ],
   "source": [
    "df.info()"
   ]
  },
  {
   "cell_type": "markdown",
   "metadata": {},
   "source": [
    "Percentage of missing values in each column: "
   ]
  },
  {
   "cell_type": "code",
   "execution_count": 6,
   "metadata": {},
   "outputs": [
    {
     "data": {
      "text/plain": [
       "instance             0.000000\n",
       "year_of_record       0.397219\n",
       "gender               6.619051\n",
       "age                  0.152231\n",
       "country              0.000000\n",
       "size_of_city         0.000000\n",
       "profession           0.276635\n",
       "university_degree    6.600500\n",
       "wears_glasses        0.000000\n",
       "hair_color           6.562306\n",
       "body_height_[cm]     0.000000\n",
       "dtype: float64"
      ]
     },
     "execution_count": 6,
     "metadata": {},
     "output_type": "execute_result"
    }
   ],
   "source": [
    "(df.isnull()/df.shape[0]).sum() * 100"
   ]
  },
  {
   "cell_type": "markdown",
   "metadata": {},
   "source": [
    "# 2. Missing values "
   ]
  },
  {
   "cell_type": "code",
   "execution_count": 11,
   "metadata": {},
   "outputs": [
    {
     "data": {
      "text/plain": [
       "Text(0.5, 1.0, 'Number of missing values')"
      ]
     },
     "execution_count": 11,
     "metadata": {},
     "output_type": "execute_result"
    },
    {
     "data": {
      "image/png": "[encoded data removed]",
      "text/plain": [
       "<Figure size 432x288 with 1 Axes>"
      ]
     },
     "metadata": {
      "needs_background": "light"
     },
     "output_type": "display_data"
    }
   ],
   "source": [
    "pd.DataFrame(df.isnull().sum()).plot.bar().set_title(\"Number of missing values\")\n",
    "# (df.isnull()/df.shape[0]).sum() * 100"
   ]
  },
  {
   "cell_type": "markdown",
   "metadata": {},
   "source": [
    "### Year of record"
   ]
  },
  {
   "cell_type": "code",
   "execution_count": 7,
   "metadata": {},
   "outputs": [],
   "source": [
    "df.year_of_record.bfill(inplace = True)"
   ]
  },
  {
   "cell_type": "markdown",
   "metadata": {},
   "source": [
    "### Gender"
   ]
  },
  {
   "cell_type": "code",
   "execution_count": 8,
   "metadata": {},
   "outputs": [
    {
     "data": {
      "text/plain": [
       "male       70304\n",
       "female     44368\n",
       "other      44233\n",
       "unknown    11066\n",
       "0           1172\n",
       "Name: gender, dtype: int64"
      ]
     },
     "execution_count": 8,
     "metadata": {},
     "output_type": "execute_result"
    }
   ],
   "source": [
    "df.gender.value_counts()"
   ]
  },
  {
   "cell_type": "code",
   "execution_count": 9,
   "metadata": {},
   "outputs": [],
   "source": [
    "df.loc[df['gender'] == '0', 'gender'] = 'male'\n",
    "df.gender.fillna('unknown', inplace=True)"
   ]
  },
  {
   "cell_type": "code",
   "execution_count": 11,
   "metadata": {},
   "outputs": [
    {
     "data": {
      "text/plain": [
       "male       71476\n",
       "female     44368\n",
       "other      44233\n",
       "unknown    23197\n",
       "Name: gender, dtype: int64"
      ]
     },
     "execution_count": 11,
     "metadata": {},
     "output_type": "execute_result"
    }
   ],
   "source": [
    "df.gender.value_counts()"
   ]
  },
  {
   "cell_type": "markdown",
   "metadata": {},
   "source": [
    "### Age"
   ]
  },
  {
   "cell_type": "code",
   "execution_count": 12,
   "metadata": {
    "scrolled": true
   },
   "outputs": [
    {
     "data": {
      "text/plain": [
       "count    182995.000000\n",
       "mean         36.971125\n",
       "std          15.512092\n",
       "min          14.000000\n",
       "25%          24.000000\n",
       "50%          35.000000\n",
       "75%          47.000000\n",
       "max         126.000000\n",
       "Name: age, dtype: float64"
      ]
     },
     "execution_count": 12,
     "metadata": {},
     "output_type": "execute_result"
    }
   ],
   "source": [
    "df.age.describe()"
   ]
  },
  {
   "cell_type": "code",
   "execution_count": 13,
   "metadata": {},
   "outputs": [],
   "source": [
    "df.age.fillna(df.age.median(), inplace=True)"
   ]
  },
  {
   "cell_type": "markdown",
   "metadata": {},
   "source": [
    "### Profession\n"
   ]
  },
  {
   "cell_type": "code",
   "execution_count": 14,
   "metadata": {},
   "outputs": [],
   "source": [
    "df.profession.bfill(inplace = True)"
   ]
  },
  {
   "cell_type": "markdown",
   "metadata": {},
   "source": [
    "### Hair color"
   ]
  },
  {
   "cell_type": "code",
   "execution_count": 15,
   "metadata": {},
   "outputs": [
    {
     "data": {
      "text/plain": [
       "array(['Blond', 'Black', 'Brown', 'Red', 'Unknown'], dtype=object)"
      ]
     },
     "execution_count": 15,
     "metadata": {},
     "output_type": "execute_result"
    }
   ],
   "source": [
    "df.loc[df['hair_color'] == '0', 'hair_color'] = 'Unknown'\n",
    "df.hair_color.bfill(inplace = True)\n",
    "df.hair_color.unique()"
   ]
  },
  {
   "cell_type": "markdown",
   "metadata": {},
   "source": [
    "### University Degree"
   ]
  },
  {
   "cell_type": "code",
   "execution_count": 16,
   "metadata": {},
   "outputs": [],
   "source": [
    "df.university_degree.bfill(inplace = True)"
   ]
  },
  {
   "cell_type": "code",
   "execution_count": 17,
   "metadata": {},
   "outputs": [
    {
     "data": {
      "text/plain": [
       "instance             0\n",
       "year_of_record       0\n",
       "gender               0\n",
       "age                  0\n",
       "country              0\n",
       "size_of_city         0\n",
       "profession           0\n",
       "university_degree    0\n",
       "wears_glasses        0\n",
       "hair_color           0\n",
       "body_height_[cm]     0\n",
       "dtype: int64"
      ]
     },
     "execution_count": 17,
     "metadata": {},
     "output_type": "execute_result"
    }
   ],
   "source": [
    "df.isnull().sum()"
   ]
  },
  {
   "cell_type": "markdown",
   "metadata": {},
   "source": [
    "# 3. Correlation of numerical values with income in Training dataset"
   ]
  },
  {
   "cell_type": "code",
   "execution_count": 18,
   "metadata": {
    "scrolled": true
   },
   "outputs": [
    {
     "data": {
      "text/html": [
       "<style  type=\"text/css\" >\n",
       "    #T_d1a85d36_edb4_11e9_ad0d_acbc32773969row0_col0 {\n",
       "            background-color:  #b40426;\n",
       "            color:  #f1f1f1;\n",
       "        }    #T_d1a85d36_edb4_11e9_ad0d_acbc32773969row0_col1 {\n",
       "            background-color:  #3b4cc0;\n",
       "            color:  #f1f1f1;\n",
       "        }    #T_d1a85d36_edb4_11e9_ad0d_acbc32773969row0_col2 {\n",
       "            background-color:  #3b4cc0;\n",
       "            color:  #f1f1f1;\n",
       "        }    #T_d1a85d36_edb4_11e9_ad0d_acbc32773969row0_col3 {\n",
       "            background-color:  #3b4cc0;\n",
       "            color:  #f1f1f1;\n",
       "        }    #T_d1a85d36_edb4_11e9_ad0d_acbc32773969row0_col4 {\n",
       "            background-color:  #3b4cc0;\n",
       "            color:  #f1f1f1;\n",
       "        }    #T_d1a85d36_edb4_11e9_ad0d_acbc32773969row0_col5 {\n",
       "            background-color:  #3b4cc0;\n",
       "            color:  #f1f1f1;\n",
       "        }    #T_d1a85d36_edb4_11e9_ad0d_acbc32773969row0_col6 {\n",
       "            background-color:  #3b4cc0;\n",
       "            color:  #f1f1f1;\n",
       "        }    #T_d1a85d36_edb4_11e9_ad0d_acbc32773969row1_col0 {\n",
       "            background-color:  #3b4cc0;\n",
       "            color:  #f1f1f1;\n",
       "        }    #T_d1a85d36_edb4_11e9_ad0d_acbc32773969row1_col1 {\n",
       "            background-color:  #b40426;\n",
       "            color:  #f1f1f1;\n",
       "        }    #T_d1a85d36_edb4_11e9_ad0d_acbc32773969row1_col2 {\n",
       "            background-color:  #3b4cc0;\n",
       "            color:  #f1f1f1;\n",
       "        }    #T_d1a85d36_edb4_11e9_ad0d_acbc32773969row1_col3 {\n",
       "            background-color:  #3c4ec2;\n",
       "            color:  #f1f1f1;\n",
       "        }    #T_d1a85d36_edb4_11e9_ad0d_acbc32773969row1_col4 {\n",
       "            background-color:  #3b4cc0;\n",
       "            color:  #f1f1f1;\n",
       "        }    #T_d1a85d36_edb4_11e9_ad0d_acbc32773969row1_col5 {\n",
       "            background-color:  #3c4ec2;\n",
       "            color:  #f1f1f1;\n",
       "        }    #T_d1a85d36_edb4_11e9_ad0d_acbc32773969row1_col6 {\n",
       "            background-color:  #6f92f3;\n",
       "            color:  #000000;\n",
       "        }    #T_d1a85d36_edb4_11e9_ad0d_acbc32773969row2_col0 {\n",
       "            background-color:  #3c4ec2;\n",
       "            color:  #f1f1f1;\n",
       "        }    #T_d1a85d36_edb4_11e9_ad0d_acbc32773969row2_col1 {\n",
       "            background-color:  #3b4cc0;\n",
       "            color:  #f1f1f1;\n",
       "        }    #T_d1a85d36_edb4_11e9_ad0d_acbc32773969row2_col2 {\n",
       "            background-color:  #b40426;\n",
       "            color:  #f1f1f1;\n",
       "        }    #T_d1a85d36_edb4_11e9_ad0d_acbc32773969row2_col3 {\n",
       "            background-color:  #3d50c3;\n",
       "            color:  #f1f1f1;\n",
       "        }    #T_d1a85d36_edb4_11e9_ad0d_acbc32773969row2_col4 {\n",
       "            background-color:  #3b4cc0;\n",
       "            color:  #f1f1f1;\n",
       "        }    #T_d1a85d36_edb4_11e9_ad0d_acbc32773969row2_col5 {\n",
       "            background-color:  #3b4cc0;\n",
       "            color:  #f1f1f1;\n",
       "        }    #T_d1a85d36_edb4_11e9_ad0d_acbc32773969row2_col6 {\n",
       "            background-color:  #7396f5;\n",
       "            color:  #000000;\n",
       "        }    #T_d1a85d36_edb4_11e9_ad0d_acbc32773969row3_col0 {\n",
       "            background-color:  #3b4cc0;\n",
       "            color:  #f1f1f1;\n",
       "        }    #T_d1a85d36_edb4_11e9_ad0d_acbc32773969row3_col1 {\n",
       "            background-color:  #3c4ec2;\n",
       "            color:  #f1f1f1;\n",
       "        }    #T_d1a85d36_edb4_11e9_ad0d_acbc32773969row3_col2 {\n",
       "            background-color:  #3d50c3;\n",
       "            color:  #f1f1f1;\n",
       "        }    #T_d1a85d36_edb4_11e9_ad0d_acbc32773969row3_col3 {\n",
       "            background-color:  #b40426;\n",
       "            color:  #f1f1f1;\n",
       "        }    #T_d1a85d36_edb4_11e9_ad0d_acbc32773969row3_col4 {\n",
       "            background-color:  #3b4cc0;\n",
       "            color:  #f1f1f1;\n",
       "        }    #T_d1a85d36_edb4_11e9_ad0d_acbc32773969row3_col5 {\n",
       "            background-color:  #3b4cc0;\n",
       "            color:  #f1f1f1;\n",
       "        }    #T_d1a85d36_edb4_11e9_ad0d_acbc32773969row3_col6 {\n",
       "            background-color:  #3e51c5;\n",
       "            color:  #f1f1f1;\n",
       "        }    #T_d1a85d36_edb4_11e9_ad0d_acbc32773969row4_col0 {\n",
       "            background-color:  #3c4ec2;\n",
       "            color:  #f1f1f1;\n",
       "        }    #T_d1a85d36_edb4_11e9_ad0d_acbc32773969row4_col1 {\n",
       "            background-color:  #3b4cc0;\n",
       "            color:  #f1f1f1;\n",
       "        }    #T_d1a85d36_edb4_11e9_ad0d_acbc32773969row4_col2 {\n",
       "            background-color:  #3b4cc0;\n",
       "            color:  #f1f1f1;\n",
       "        }    #T_d1a85d36_edb4_11e9_ad0d_acbc32773969row4_col3 {\n",
       "            background-color:  #3c4ec2;\n",
       "            color:  #f1f1f1;\n",
       "        }    #T_d1a85d36_edb4_11e9_ad0d_acbc32773969row4_col4 {\n",
       "            background-color:  #b40426;\n",
       "            color:  #f1f1f1;\n",
       "        }    #T_d1a85d36_edb4_11e9_ad0d_acbc32773969row4_col5 {\n",
       "            background-color:  #3d50c3;\n",
       "            color:  #f1f1f1;\n",
       "        }    #T_d1a85d36_edb4_11e9_ad0d_acbc32773969row4_col6 {\n",
       "            background-color:  #3b4cc0;\n",
       "            color:  #f1f1f1;\n",
       "        }    #T_d1a85d36_edb4_11e9_ad0d_acbc32773969row5_col0 {\n",
       "            background-color:  #3b4cc0;\n",
       "            color:  #f1f1f1;\n",
       "        }    #T_d1a85d36_edb4_11e9_ad0d_acbc32773969row5_col1 {\n",
       "            background-color:  #3c4ec2;\n",
       "            color:  #f1f1f1;\n",
       "        }    #T_d1a85d36_edb4_11e9_ad0d_acbc32773969row5_col2 {\n",
       "            background-color:  #3b4cc0;\n",
       "            color:  #f1f1f1;\n",
       "        }    #T_d1a85d36_edb4_11e9_ad0d_acbc32773969row5_col3 {\n",
       "            background-color:  #3b4cc0;\n",
       "            color:  #f1f1f1;\n",
       "        }    #T_d1a85d36_edb4_11e9_ad0d_acbc32773969row5_col4 {\n",
       "            background-color:  #3d50c3;\n",
       "            color:  #f1f1f1;\n",
       "        }    #T_d1a85d36_edb4_11e9_ad0d_acbc32773969row5_col5 {\n",
       "            background-color:  #b40426;\n",
       "            color:  #f1f1f1;\n",
       "        }    #T_d1a85d36_edb4_11e9_ad0d_acbc32773969row5_col6 {\n",
       "            background-color:  #4f69d9;\n",
       "            color:  #000000;\n",
       "        }    #T_d1a85d36_edb4_11e9_ad0d_acbc32773969row6_col0 {\n",
       "            background-color:  #3c4ec2;\n",
       "            color:  #f1f1f1;\n",
       "        }    #T_d1a85d36_edb4_11e9_ad0d_acbc32773969row6_col1 {\n",
       "            background-color:  #7093f3;\n",
       "            color:  #000000;\n",
       "        }    #T_d1a85d36_edb4_11e9_ad0d_acbc32773969row6_col2 {\n",
       "            background-color:  #7597f6;\n",
       "            color:  #000000;\n",
       "        }    #T_d1a85d36_edb4_11e9_ad0d_acbc32773969row6_col3 {\n",
       "            background-color:  #4055c8;\n",
       "            color:  #f1f1f1;\n",
       "        }    #T_d1a85d36_edb4_11e9_ad0d_acbc32773969row6_col4 {\n",
       "            background-color:  #3c4ec2;\n",
       "            color:  #f1f1f1;\n",
       "        }    #T_d1a85d36_edb4_11e9_ad0d_acbc32773969row6_col5 {\n",
       "            background-color:  #516ddb;\n",
       "            color:  #000000;\n",
       "        }    #T_d1a85d36_edb4_11e9_ad0d_acbc32773969row6_col6 {\n",
       "            background-color:  #b40426;\n",
       "            color:  #f1f1f1;\n",
       "        }</style><table id=\"T_d1a85d36_edb4_11e9_ad0d_acbc32773969\" ><thead>    <tr>        <th class=\"blank level0\" ></th>        <th class=\"col_heading level0 col0\" >Instance</th>        <th class=\"col_heading level0 col1\" >Year of Record</th>        <th class=\"col_heading level0 col2\" >Age</th>        <th class=\"col_heading level0 col3\" >Size of City</th>        <th class=\"col_heading level0 col4\" >Wears Glasses</th>        <th class=\"col_heading level0 col5\" >Body Height [cm]</th>        <th class=\"col_heading level0 col6\" >income</th>    </tr></thead><tbody>\n",
       "                <tr>\n",
       "                        <th id=\"T_d1a85d36_edb4_11e9_ad0d_acbc32773969level0_row0\" class=\"row_heading level0 row0\" >Instance</th>\n",
       "                        <td id=\"T_d1a85d36_edb4_11e9_ad0d_acbc32773969row0_col0\" class=\"data row0 col0\" >1</td>\n",
       "                        <td id=\"T_d1a85d36_edb4_11e9_ad0d_acbc32773969row0_col1\" class=\"data row0 col1\" >-0.0019282</td>\n",
       "                        <td id=\"T_d1a85d36_edb4_11e9_ad0d_acbc32773969row0_col2\" class=\"data row0 col2\" >0.00075427</td>\n",
       "                        <td id=\"T_d1a85d36_edb4_11e9_ad0d_acbc32773969row0_col3\" class=\"data row0 col3\" >-0.00427857</td>\n",
       "                        <td id=\"T_d1a85d36_edb4_11e9_ad0d_acbc32773969row0_col4\" class=\"data row0 col4\" >0.000791395</td>\n",
       "                        <td id=\"T_d1a85d36_edb4_11e9_ad0d_acbc32773969row0_col5\" class=\"data row0 col5\" >-0.00159089</td>\n",
       "                        <td id=\"T_d1a85d36_edb4_11e9_ad0d_acbc32773969row0_col6\" class=\"data row0 col6\" >0.00320229</td>\n",
       "            </tr>\n",
       "            <tr>\n",
       "                        <th id=\"T_d1a85d36_edb4_11e9_ad0d_acbc32773969level0_row1\" class=\"row_heading level0 row1\" >Year of Record</th>\n",
       "                        <td id=\"T_d1a85d36_edb4_11e9_ad0d_acbc32773969row1_col0\" class=\"data row1 col0\" >-0.0019282</td>\n",
       "                        <td id=\"T_d1a85d36_edb4_11e9_ad0d_acbc32773969row1_col1\" class=\"data row1 col1\" >1</td>\n",
       "                        <td id=\"T_d1a85d36_edb4_11e9_ad0d_acbc32773969row1_col2\" class=\"data row1 col2\" >-0.000616228</td>\n",
       "                        <td id=\"T_d1a85d36_edb4_11e9_ad0d_acbc32773969row1_col3\" class=\"data row1 col3\" >0.00282939</td>\n",
       "                        <td id=\"T_d1a85d36_edb4_11e9_ad0d_acbc32773969row1_col4\" class=\"data row1 col4\" >-0.00210436</td>\n",
       "                        <td id=\"T_d1a85d36_edb4_11e9_ad0d_acbc32773969row1_col5\" class=\"data row1 col5\" >0.00203644</td>\n",
       "                        <td id=\"T_d1a85d36_edb4_11e9_ad0d_acbc32773969row1_col6\" class=\"data row1 col6\" >0.166983</td>\n",
       "            </tr>\n",
       "            <tr>\n",
       "                        <th id=\"T_d1a85d36_edb4_11e9_ad0d_acbc32773969level0_row2\" class=\"row_heading level0 row2\" >Age</th>\n",
       "                        <td id=\"T_d1a85d36_edb4_11e9_ad0d_acbc32773969row2_col0\" class=\"data row2 col0\" >0.00075427</td>\n",
       "                        <td id=\"T_d1a85d36_edb4_11e9_ad0d_acbc32773969row2_col1\" class=\"data row2 col1\" >-0.000616228</td>\n",
       "                        <td id=\"T_d1a85d36_edb4_11e9_ad0d_acbc32773969row2_col2\" class=\"data row2 col2\" >1</td>\n",
       "                        <td id=\"T_d1a85d36_edb4_11e9_ad0d_acbc32773969row2_col3\" class=\"data row2 col3\" >0.00612141</td>\n",
       "                        <td id=\"T_d1a85d36_edb4_11e9_ad0d_acbc32773969row2_col4\" class=\"data row2 col4\" >-0.00131969</td>\n",
       "                        <td id=\"T_d1a85d36_edb4_11e9_ad0d_acbc32773969row2_col5\" class=\"data row2 col5\" >-0.00234983</td>\n",
       "                        <td id=\"T_d1a85d36_edb4_11e9_ad0d_acbc32773969row2_col6\" class=\"data row2 col6\" >0.179542</td>\n",
       "            </tr>\n",
       "            <tr>\n",
       "                        <th id=\"T_d1a85d36_edb4_11e9_ad0d_acbc32773969level0_row3\" class=\"row_heading level0 row3\" >Size of City</th>\n",
       "                        <td id=\"T_d1a85d36_edb4_11e9_ad0d_acbc32773969row3_col0\" class=\"data row3 col0\" >-0.00427857</td>\n",
       "                        <td id=\"T_d1a85d36_edb4_11e9_ad0d_acbc32773969row3_col1\" class=\"data row3 col1\" >0.00282939</td>\n",
       "                        <td id=\"T_d1a85d36_edb4_11e9_ad0d_acbc32773969row3_col2\" class=\"data row3 col2\" >0.00612141</td>\n",
       "                        <td id=\"T_d1a85d36_edb4_11e9_ad0d_acbc32773969row3_col3\" class=\"data row3 col3\" >1</td>\n",
       "                        <td id=\"T_d1a85d36_edb4_11e9_ad0d_acbc32773969row3_col4\" class=\"data row3 col4\" >0.000737999</td>\n",
       "                        <td id=\"T_d1a85d36_edb4_11e9_ad0d_acbc32773969row3_col5\" class=\"data row3 col5\" >-0.00226304</td>\n",
       "                        <td id=\"T_d1a85d36_edb4_11e9_ad0d_acbc32773969row3_col6\" class=\"data row3 col6\" >0.0154095</td>\n",
       "            </tr>\n",
       "            <tr>\n",
       "                        <th id=\"T_d1a85d36_edb4_11e9_ad0d_acbc32773969level0_row4\" class=\"row_heading level0 row4\" >Wears Glasses</th>\n",
       "                        <td id=\"T_d1a85d36_edb4_11e9_ad0d_acbc32773969row4_col0\" class=\"data row4 col0\" >0.000791395</td>\n",
       "                        <td id=\"T_d1a85d36_edb4_11e9_ad0d_acbc32773969row4_col1\" class=\"data row4 col1\" >-0.00210436</td>\n",
       "                        <td id=\"T_d1a85d36_edb4_11e9_ad0d_acbc32773969row4_col2\" class=\"data row4 col2\" >-0.00131969</td>\n",
       "                        <td id=\"T_d1a85d36_edb4_11e9_ad0d_acbc32773969row4_col3\" class=\"data row4 col3\" >0.000737999</td>\n",
       "                        <td id=\"T_d1a85d36_edb4_11e9_ad0d_acbc32773969row4_col4\" class=\"data row4 col4\" >1</td>\n",
       "                        <td id=\"T_d1a85d36_edb4_11e9_ad0d_acbc32773969row4_col5\" class=\"data row4 col5\" >0.00666906</td>\n",
       "                        <td id=\"T_d1a85d36_edb4_11e9_ad0d_acbc32773969row4_col6\" class=\"data row4 col6\" >0.00439741</td>\n",
       "            </tr>\n",
       "            <tr>\n",
       "                        <th id=\"T_d1a85d36_edb4_11e9_ad0d_acbc32773969level0_row5\" class=\"row_heading level0 row5\" >Body Height [cm]</th>\n",
       "                        <td id=\"T_d1a85d36_edb4_11e9_ad0d_acbc32773969row5_col0\" class=\"data row5 col0\" >-0.00159089</td>\n",
       "                        <td id=\"T_d1a85d36_edb4_11e9_ad0d_acbc32773969row5_col1\" class=\"data row5 col1\" >0.00203644</td>\n",
       "                        <td id=\"T_d1a85d36_edb4_11e9_ad0d_acbc32773969row5_col2\" class=\"data row5 col2\" >-0.00234983</td>\n",
       "                        <td id=\"T_d1a85d36_edb4_11e9_ad0d_acbc32773969row5_col3\" class=\"data row5 col3\" >-0.00226304</td>\n",
       "                        <td id=\"T_d1a85d36_edb4_11e9_ad0d_acbc32773969row5_col4\" class=\"data row5 col4\" >0.00666906</td>\n",
       "                        <td id=\"T_d1a85d36_edb4_11e9_ad0d_acbc32773969row5_col5\" class=\"data row5 col5\" >1</td>\n",
       "                        <td id=\"T_d1a85d36_edb4_11e9_ad0d_acbc32773969row5_col6\" class=\"data row5 col6\" >0.0724329</td>\n",
       "            </tr>\n",
       "            <tr>\n",
       "                        <th id=\"T_d1a85d36_edb4_11e9_ad0d_acbc32773969level0_row6\" class=\"row_heading level0 row6\" >income</th>\n",
       "                        <td id=\"T_d1a85d36_edb4_11e9_ad0d_acbc32773969row6_col0\" class=\"data row6 col0\" >0.00320229</td>\n",
       "                        <td id=\"T_d1a85d36_edb4_11e9_ad0d_acbc32773969row6_col1\" class=\"data row6 col1\" >0.166983</td>\n",
       "                        <td id=\"T_d1a85d36_edb4_11e9_ad0d_acbc32773969row6_col2\" class=\"data row6 col2\" >0.179542</td>\n",
       "                        <td id=\"T_d1a85d36_edb4_11e9_ad0d_acbc32773969row6_col3\" class=\"data row6 col3\" >0.0154095</td>\n",
       "                        <td id=\"T_d1a85d36_edb4_11e9_ad0d_acbc32773969row6_col4\" class=\"data row6 col4\" >0.00439741</td>\n",
       "                        <td id=\"T_d1a85d36_edb4_11e9_ad0d_acbc32773969row6_col5\" class=\"data row6 col5\" >0.0724329</td>\n",
       "                        <td id=\"T_d1a85d36_edb4_11e9_ad0d_acbc32773969row6_col6\" class=\"data row6 col6\" >1</td>\n",
       "            </tr>\n",
       "    </tbody></table>"
      ],
      "text/plain": [
       "<pandas.io.formats.style.Styler at 0x120a81ad0>"
      ]
     },
     "execution_count": 18,
     "metadata": {},
     "output_type": "execute_result"
    }
   ],
   "source": [
    "corr = train_df.corr()\n",
    "corr.style.background_gradient(cmap='coolwarm')"
   ]
  },
  {
   "cell_type": "markdown",
   "metadata": {},
   "source": [
    "# 4. Dropping Columns"
   ]
  },
  {
   "cell_type": "code",
   "execution_count": 19,
   "metadata": {},
   "outputs": [],
   "source": [
    "df = df.drop(columns=[\"hair_color\", \"size_of_city\", \"wears_glasses\", \"body_height_[cm]\"])"
   ]
  },
  {
   "cell_type": "markdown",
   "metadata": {},
   "source": [
    "# 5. Encoding"
   ]
  },
  {
   "cell_type": "markdown",
   "metadata": {},
   "source": [
    "### Year of record"
   ]
  },
  {
   "cell_type": "code",
   "execution_count": 20,
   "metadata": {},
   "outputs": [],
   "source": [
    "df['yor'] = pd.cut(df['year_of_record'], bins = 5)\n",
    "df['yor'] = df['yor'].astype(str).str.strip('()[]')\n",
    "df['yor'] = df['yor'].astype(str).str.replace(', ', '-')\n",
    "df = pd.concat([df.drop('yor', 1), pd.get_dummies(df.yor, prefix='year_range', drop_first = True)], axis=1)\n",
    "df = df.drop('year_of_record', 1)"
   ]
  },
  {
   "cell_type": "markdown",
   "metadata": {},
   "source": [
    "### Gender"
   ]
  },
  {
   "cell_type": "code",
   "execution_count": 21,
   "metadata": {},
   "outputs": [],
   "source": [
    "df = pd.concat([df.drop('gender', 1), pd.get_dummies(df.gender, prefix='gender', drop_first = True)], axis=1)"
   ]
  },
  {
   "cell_type": "markdown",
   "metadata": {},
   "source": [
    "### Country"
   ]
  },
  {
   "cell_type": "code",
   "execution_count": 22,
   "metadata": {},
   "outputs": [],
   "source": [
    "df = pd.concat([df, pd.get_dummies(df.country, prefix='country')], axis=1)\n",
    "df = df.drop('country', 1)"
   ]
  },
  {
   "cell_type": "markdown",
   "metadata": {},
   "source": [
    "### Profession"
   ]
  },
  {
   "cell_type": "code",
   "execution_count": 23,
   "metadata": {},
   "outputs": [],
   "source": [
    "train = df[0:110044]\n",
    "ce_target = ce.TargetEncoder(cols = ['Profession'])\n",
    "df['profession'] = ce_target.fit_transform(train_df, train_df['income'])"
   ]
  },
  {
   "cell_type": "markdown",
   "metadata": {},
   "source": [
    "### University Degree"
   ]
  },
  {
   "cell_type": "code",
   "execution_count": 24,
   "metadata": {},
   "outputs": [],
   "source": [
    "df = pd.concat([df.drop('university_degree', 1), pd.get_dummies(df.university_degree, prefix='edu')], axis=1)"
   ]
  },
  {
   "cell_type": "markdown",
   "metadata": {},
   "source": [
    "# 6. Scaling Features"
   ]
  },
  {
   "cell_type": "code",
   "execution_count": 25,
   "metadata": {},
   "outputs": [],
   "source": [
    "scaler = MinMaxScaler(feature_range=(0, 1))\n",
    "df = scaler.fit_transform(df)"
   ]
  },
  {
   "cell_type": "code",
   "execution_count": 26,
   "metadata": {},
   "outputs": [
    {
     "name": "stdout",
     "output_type": "stream",
     "text": [
      "36408.60273855427\n"
     ]
    }
   ],
   "source": [
    "train_features = df[0:110044]\n",
    "test_features = df[110044:]\n",
    "\n",
    "\n",
    "# rf_random = RandomizedSearchCV(estimator = reg, param_distributions = random_grid, n_iter = 100, cv = 3, verbose=2, random_state=42, n_jobs = -1)\n",
    "# rf_random.fit(train_features, train_target)\n",
    "# pred = reg.predict(train_features)\n",
    "# rms = sqrt(mean_squared_error(train_target, pred))\n",
    "# print(rms)\n",
    "\n",
    "\n",
    "reg = RandomForestRegressor(n_estimators=10, random_state=42, min_samples_split=2, n_jobs=-1)\n",
    "reg.fit(train_features, train_target)\n",
    "pred = reg.predict(train_features)\n",
    "rms = sqrt(mean_squared_error(train_target, pred))\n",
    "print(rms)"
   ]
  },
  {
   "cell_type": "code",
   "execution_count": 27,
   "metadata": {},
   "outputs": [
    {
     "ename": "ValueError",
     "evalue": "Input contains NaN, infinity or a value too large for dtype('float32').",
     "output_type": "error",
     "traceback": [
      "\u001b[0;31m---------------------------------------------------------------------------\u001b[0m",
      "\u001b[0;31mValueError\u001b[0m                                Traceback (most recent call last)",
      "\u001b[0;32m<ipython-input-27-0d8e0cf9b424>\u001b[0m in \u001b[0;36m<module>\u001b[0;34m\u001b[0m\n\u001b[0;32m----> 1\u001b[0;31m \u001b[0mpred\u001b[0m \u001b[0;34m=\u001b[0m \u001b[0mreg\u001b[0m\u001b[0;34m.\u001b[0m\u001b[0mpredict\u001b[0m\u001b[0;34m(\u001b[0m\u001b[0mtest_features\u001b[0m\u001b[0;34m)\u001b[0m\u001b[0;34m\u001b[0m\u001b[0;34m\u001b[0m\u001b[0m\n\u001b[0m\u001b[1;32m      2\u001b[0m \u001b[0mdff\u001b[0m \u001b[0;34m=\u001b[0m \u001b[0mpd\u001b[0m\u001b[0;34m.\u001b[0m\u001b[0mDataFrame\u001b[0m\u001b[0;34m(\u001b[0m\u001b[0;34m{\u001b[0m\u001b[0;34m'Income'\u001b[0m\u001b[0;34m:\u001b[0m\u001b[0mpred\u001b[0m\u001b[0;34m}\u001b[0m\u001b[0;34m)\u001b[0m\u001b[0;34m\u001b[0m\u001b[0;34m\u001b[0m\u001b[0m\n\u001b[1;32m      3\u001b[0m \u001b[0mdff\u001b[0m\u001b[0;34m.\u001b[0m\u001b[0mto_csv\u001b[0m\u001b[0;34m(\u001b[0m\u001b[0;34m'op_1.csv'\u001b[0m\u001b[0;34m,\u001b[0m\u001b[0mindex\u001b[0m\u001b[0;34m=\u001b[0m\u001b[0;32mFalse\u001b[0m\u001b[0;34m)\u001b[0m\u001b[0;34m\u001b[0m\u001b[0;34m\u001b[0m\u001b[0m\n",
      "\u001b[0;32m/usr/local/lib/python3.7/site-packages/sklearn/ensemble/forest.py\u001b[0m in \u001b[0;36mpredict\u001b[0;34m(self, X)\u001b[0m\n\u001b[1;32m    691\u001b[0m         \u001b[0mcheck_is_fitted\u001b[0m\u001b[0;34m(\u001b[0m\u001b[0mself\u001b[0m\u001b[0;34m,\u001b[0m \u001b[0;34m'estimators_'\u001b[0m\u001b[0;34m)\u001b[0m\u001b[0;34m\u001b[0m\u001b[0;34m\u001b[0m\u001b[0m\n\u001b[1;32m    692\u001b[0m         \u001b[0;31m# Check data\u001b[0m\u001b[0;34m\u001b[0m\u001b[0;34m\u001b[0m\u001b[0;34m\u001b[0m\u001b[0m\n\u001b[0;32m--> 693\u001b[0;31m         \u001b[0mX\u001b[0m \u001b[0;34m=\u001b[0m \u001b[0mself\u001b[0m\u001b[0;34m.\u001b[0m\u001b[0m_validate_X_predict\u001b[0m\u001b[0;34m(\u001b[0m\u001b[0mX\u001b[0m\u001b[0;34m)\u001b[0m\u001b[0;34m\u001b[0m\u001b[0;34m\u001b[0m\u001b[0m\n\u001b[0m\u001b[1;32m    694\u001b[0m \u001b[0;34m\u001b[0m\u001b[0m\n\u001b[1;32m    695\u001b[0m         \u001b[0;31m# Assign chunk of trees to jobs\u001b[0m\u001b[0;34m\u001b[0m\u001b[0;34m\u001b[0m\u001b[0;34m\u001b[0m\u001b[0m\n",
      "\u001b[0;32m/usr/local/lib/python3.7/site-packages/sklearn/ensemble/forest.py\u001b[0m in \u001b[0;36m_validate_X_predict\u001b[0;34m(self, X)\u001b[0m\n\u001b[1;32m    357\u001b[0m                                  \"call `fit` before exploiting the model.\")\n\u001b[1;32m    358\u001b[0m \u001b[0;34m\u001b[0m\u001b[0m\n\u001b[0;32m--> 359\u001b[0;31m         \u001b[0;32mreturn\u001b[0m \u001b[0mself\u001b[0m\u001b[0;34m.\u001b[0m\u001b[0mestimators_\u001b[0m\u001b[0;34m[\u001b[0m\u001b[0;36m0\u001b[0m\u001b[0;34m]\u001b[0m\u001b[0;34m.\u001b[0m\u001b[0m_validate_X_predict\u001b[0m\u001b[0;34m(\u001b[0m\u001b[0mX\u001b[0m\u001b[0;34m,\u001b[0m \u001b[0mcheck_input\u001b[0m\u001b[0;34m=\u001b[0m\u001b[0;32mTrue\u001b[0m\u001b[0;34m)\u001b[0m\u001b[0;34m\u001b[0m\u001b[0;34m\u001b[0m\u001b[0m\n\u001b[0m\u001b[1;32m    360\u001b[0m \u001b[0;34m\u001b[0m\u001b[0m\n\u001b[1;32m    361\u001b[0m     \u001b[0;34m@\u001b[0m\u001b[0mproperty\u001b[0m\u001b[0;34m\u001b[0m\u001b[0;34m\u001b[0m\u001b[0m\n",
      "\u001b[0;32m/usr/local/lib/python3.7/site-packages/sklearn/tree/tree.py\u001b[0m in \u001b[0;36m_validate_X_predict\u001b[0;34m(self, X, check_input)\u001b[0m\n\u001b[1;32m    389\u001b[0m         \u001b[0;34m\"\"\"Validate X whenever one tries to predict, apply, predict_proba\"\"\"\u001b[0m\u001b[0;34m\u001b[0m\u001b[0;34m\u001b[0m\u001b[0m\n\u001b[1;32m    390\u001b[0m         \u001b[0;32mif\u001b[0m \u001b[0mcheck_input\u001b[0m\u001b[0;34m:\u001b[0m\u001b[0;34m\u001b[0m\u001b[0;34m\u001b[0m\u001b[0m\n\u001b[0;32m--> 391\u001b[0;31m             \u001b[0mX\u001b[0m \u001b[0;34m=\u001b[0m \u001b[0mcheck_array\u001b[0m\u001b[0;34m(\u001b[0m\u001b[0mX\u001b[0m\u001b[0;34m,\u001b[0m \u001b[0mdtype\u001b[0m\u001b[0;34m=\u001b[0m\u001b[0mDTYPE\u001b[0m\u001b[0;34m,\u001b[0m \u001b[0maccept_sparse\u001b[0m\u001b[0;34m=\u001b[0m\u001b[0;34m\"csr\"\u001b[0m\u001b[0;34m)\u001b[0m\u001b[0;34m\u001b[0m\u001b[0;34m\u001b[0m\u001b[0m\n\u001b[0m\u001b[1;32m    392\u001b[0m             if issparse(X) and (X.indices.dtype != np.intc or\n\u001b[1;32m    393\u001b[0m                                 X.indptr.dtype != np.intc):\n",
      "\u001b[0;32m/usr/local/lib/python3.7/site-packages/sklearn/utils/validation.py\u001b[0m in \u001b[0;36mcheck_array\u001b[0;34m(array, accept_sparse, accept_large_sparse, dtype, order, copy, force_all_finite, ensure_2d, allow_nd, ensure_min_samples, ensure_min_features, warn_on_dtype, estimator)\u001b[0m\n\u001b[1;32m    540\u001b[0m         \u001b[0;32mif\u001b[0m \u001b[0mforce_all_finite\u001b[0m\u001b[0;34m:\u001b[0m\u001b[0;34m\u001b[0m\u001b[0;34m\u001b[0m\u001b[0m\n\u001b[1;32m    541\u001b[0m             _assert_all_finite(array,\n\u001b[0;32m--> 542\u001b[0;31m                                allow_nan=force_all_finite == 'allow-nan')\n\u001b[0m\u001b[1;32m    543\u001b[0m \u001b[0;34m\u001b[0m\u001b[0m\n\u001b[1;32m    544\u001b[0m     \u001b[0;32mif\u001b[0m \u001b[0mensure_min_samples\u001b[0m \u001b[0;34m>\u001b[0m \u001b[0;36m0\u001b[0m\u001b[0;34m:\u001b[0m\u001b[0;34m\u001b[0m\u001b[0;34m\u001b[0m\u001b[0m\n",
      "\u001b[0;32m/usr/local/lib/python3.7/site-packages/sklearn/utils/validation.py\u001b[0m in \u001b[0;36m_assert_all_finite\u001b[0;34m(X, allow_nan)\u001b[0m\n\u001b[1;32m     54\u001b[0m                 not allow_nan and not np.isfinite(X).all()):\n\u001b[1;32m     55\u001b[0m             \u001b[0mtype_err\u001b[0m \u001b[0;34m=\u001b[0m \u001b[0;34m'infinity'\u001b[0m \u001b[0;32mif\u001b[0m \u001b[0mallow_nan\u001b[0m \u001b[0;32melse\u001b[0m \u001b[0;34m'NaN, infinity'\u001b[0m\u001b[0;34m\u001b[0m\u001b[0;34m\u001b[0m\u001b[0m\n\u001b[0;32m---> 56\u001b[0;31m             \u001b[0;32mraise\u001b[0m \u001b[0mValueError\u001b[0m\u001b[0;34m(\u001b[0m\u001b[0mmsg_err\u001b[0m\u001b[0;34m.\u001b[0m\u001b[0mformat\u001b[0m\u001b[0;34m(\u001b[0m\u001b[0mtype_err\u001b[0m\u001b[0;34m,\u001b[0m \u001b[0mX\u001b[0m\u001b[0;34m.\u001b[0m\u001b[0mdtype\u001b[0m\u001b[0;34m)\u001b[0m\u001b[0;34m)\u001b[0m\u001b[0;34m\u001b[0m\u001b[0;34m\u001b[0m\u001b[0m\n\u001b[0m\u001b[1;32m     57\u001b[0m     \u001b[0;31m# for object dtype data, we only check for NaNs (GH-13254)\u001b[0m\u001b[0;34m\u001b[0m\u001b[0;34m\u001b[0m\u001b[0;34m\u001b[0m\u001b[0m\n\u001b[1;32m     58\u001b[0m     \u001b[0;32melif\u001b[0m \u001b[0mX\u001b[0m\u001b[0;34m.\u001b[0m\u001b[0mdtype\u001b[0m \u001b[0;34m==\u001b[0m \u001b[0mnp\u001b[0m\u001b[0;34m.\u001b[0m\u001b[0mdtype\u001b[0m\u001b[0;34m(\u001b[0m\u001b[0;34m'object'\u001b[0m\u001b[0;34m)\u001b[0m \u001b[0;32mand\u001b[0m \u001b[0;32mnot\u001b[0m \u001b[0mallow_nan\u001b[0m\u001b[0;34m:\u001b[0m\u001b[0;34m\u001b[0m\u001b[0;34m\u001b[0m\u001b[0m\n",
      "\u001b[0;31mValueError\u001b[0m: Input contains NaN, infinity or a value too large for dtype('float32')."
     ]
    }
   ],
   "source": [
    "pred = reg.predict(test_features)\n",
    "dff = pd.DataFrame({'Income':pred})\n",
    "dff.to_csv('op_1.csv',index=False)"
   ]
  }
 ],
 "metadata": {
  "kernelspec": {
   "display_name": "Python 3",
   "language": "python",
   "name": "python3"
  },
  "language_info": {
   "codemirror_mode": {
    "name": "ipython",
    "version": 3
   },
   "file_extension": ".py",
   "mimetype": "text/x-python",
   "name": "python",
   "nbconvert_exporter": "python",
   "pygments_lexer": "ipython3",
   "version": "3.7.4"
  }
 },
 "nbformat": 4,
 "nbformat_minor": 2
}
